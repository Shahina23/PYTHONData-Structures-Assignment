{
 "cells": [
  {
   "cell_type": "markdown",
   "id": "93fe7f2c",
   "metadata": {},
   "source": [
    "# Question 1"
   ]
  },
  {
   "cell_type": "markdown",
   "id": "a79591bd",
   "metadata": {},
   "source": [
    "We can comment code in python using '#'\n",
    "There are two types of commenting:\n",
    "1. single line comment: if we want to comment a single line then we use '#' \n",
    "2. Multiline comment : if we want to comment multiple line in our python code then we use triple''' at the stating of the line and at the end"
   ]
  },
  {
   "cell_type": "code",
   "execution_count": 6,
   "id": "23fbd801",
   "metadata": {},
   "outputs": [
    {
     "data": {
      "text/plain": [
       "'this\\nis \\na\\nmultiline\\ncomment'"
      ]
     },
     "execution_count": 6,
     "metadata": {},
     "output_type": "execute_result"
    }
   ],
   "source": [
    "# this is a single line comment \n",
    "'''this\n",
    "is \n",
    "a\n",
    "multiline\n",
    "comment'''"
   ]
  },
  {
   "cell_type": "markdown",
   "id": "d622b39e",
   "metadata": {},
   "source": [
    "# Question 2"
   ]
  },
  {
   "cell_type": "markdown",
   "id": "a945c59a",
   "metadata": {},
   "source": [
    "In python we use variables to store data that can be manipulated in program . It is user defined.\n",
    "We can define variables using '=' operator "
   ]
  },
  {
   "cell_type": "code",
   "execution_count": 7,
   "id": "494bf4c4",
   "metadata": {},
   "outputs": [],
   "source": [
    "my_var = \"shahina\"\n",
    "my_var2 = 23"
   ]
  },
  {
   "cell_type": "markdown",
   "id": "0c75faa5",
   "metadata": {},
   "source": [
    "# Question 3"
   ]
  },
  {
   "cell_type": "markdown",
   "id": "9d1f7bb1",
   "metadata": {},
   "source": [
    "We can convert one data type to another by directly assigning the different data type for example:"
   ]
  },
  {
   "cell_type": "code",
   "execution_count": 12,
   "id": "931576f7",
   "metadata": {},
   "outputs": [
    {
     "data": {
      "text/plain": [
       "int"
      ]
     },
     "execution_count": 12,
     "metadata": {},
     "output_type": "execute_result"
    }
   ],
   "source": [
    "var=23\n",
    "type(var) # here the default type of 23 is integer "
   ]
  },
  {
   "cell_type": "code",
   "execution_count": 13,
   "id": "eecc97fa",
   "metadata": {},
   "outputs": [
    {
     "data": {
      "text/plain": [
       "str"
      ]
     },
     "execution_count": 13,
     "metadata": {},
     "output_type": "execute_result"
    }
   ],
   "source": [
    "var1=str(23)\n",
    "type(var1)"
   ]
  },
  {
   "cell_type": "markdown",
   "id": "c5fbb0f3",
   "metadata": {},
   "source": [
    "# Question 4"
   ]
  },
  {
   "cell_type": "markdown",
   "id": "1681418c",
   "metadata": {},
   "source": [
    "first write your program in any text editor or code editor and save using the extension .py after that open command promt on windows using cd command followed by the folder in which the program is saved for example'cd Doucments', after which to open the python program write python followed by the program name.py hence if there is any print statement it will be displayed in the screen\n"
   ]
  },
  {
   "cell_type": "markdown",
   "id": "a8e72ca1",
   "metadata": {},
   "source": [
    "# Question 5"
   ]
  },
  {
   "cell_type": "code",
   "execution_count": 18,
   "id": "6a108b53",
   "metadata": {},
   "outputs": [
    {
     "name": "stdout",
     "output_type": "stream",
     "text": [
      "[2, 3]\n"
     ]
    }
   ],
   "source": [
    "my_list=[1,2,3,4,5]\n",
    "print(my_list[1:3])"
   ]
  },
  {
   "cell_type": "markdown",
   "id": "7710b95b",
   "metadata": {},
   "source": [
    "# Question 6"
   ]
  },
  {
   "cell_type": "markdown",
   "id": "8929c7ef",
   "metadata": {},
   "source": [
    "Complex number are those which contains both real and imaginary part. In python it is represented as:"
   ]
  },
  {
   "cell_type": "code",
   "execution_count": 23,
   "id": "613064a1",
   "metadata": {},
   "outputs": [
    {
     "name": "stdout",
     "output_type": "stream",
     "text": [
      "5.0\n",
      "3.0\n"
     ]
    }
   ],
   "source": [
    "z1= 5+3j\n",
    "real = z1.real\n",
    "imag = z1.imag\n",
    "print(real)\n",
    "print(imag)"
   ]
  },
  {
   "cell_type": "markdown",
   "id": "94b832b4",
   "metadata": {},
   "source": [
    "# Question 7"
   ]
  },
  {
   "cell_type": "code",
   "execution_count": 24,
   "id": "e0af42df",
   "metadata": {},
   "outputs": [
    {
     "data": {
      "text/plain": [
       "25"
      ]
     },
     "execution_count": 24,
     "metadata": {},
     "output_type": "execute_result"
    }
   ],
   "source": [
    "age =int(25)\n",
    "age"
   ]
  },
  {
   "cell_type": "markdown",
   "id": "5b0e489e",
   "metadata": {},
   "source": [
    "# Question 8"
   ]
  },
  {
   "cell_type": "code",
   "execution_count": 25,
   "id": "8792d0b4",
   "metadata": {},
   "outputs": [
    {
     "data": {
      "text/plain": [
       "float"
      ]
     },
     "execution_count": 25,
     "metadata": {},
     "output_type": "execute_result"
    }
   ],
   "source": [
    "price = 9.99\n",
    "type(price)"
   ]
  },
  {
   "cell_type": "markdown",
   "id": "d4662278",
   "metadata": {},
   "source": [
    "# Question 9"
   ]
  },
  {
   "cell_type": "code",
   "execution_count": 27,
   "id": "161550db",
   "metadata": {},
   "outputs": [
    {
     "name": "stdout",
     "output_type": "stream",
     "text": [
      "Shahina Bano Choudhury\n"
     ]
    }
   ],
   "source": [
    "name = \"Shahina Bano Choudhury\"\n",
    "print(name)"
   ]
  },
  {
   "cell_type": "markdown",
   "id": "1c6b8a8d",
   "metadata": {},
   "source": [
    "# Question 10"
   ]
  },
  {
   "cell_type": "code",
   "execution_count": 32,
   "id": "ff8723a6",
   "metadata": {},
   "outputs": [
    {
     "name": "stdout",
     "output_type": "stream",
     "text": [
      "World\n"
     ]
    }
   ],
   "source": [
    "a = 'Hello, World'\n",
    "print(a[7:12])"
   ]
  },
  {
   "cell_type": "markdown",
   "id": "f8bba9ff",
   "metadata": {},
   "source": [
    "# Question 11"
   ]
  },
  {
   "cell_type": "code",
   "execution_count": 33,
   "id": "527515ed",
   "metadata": {},
   "outputs": [],
   "source": [
    "is_student = True"
   ]
  }
 ],
 "metadata": {
  "kernelspec": {
   "display_name": "Python 3 (ipykernel)",
   "language": "python",
   "name": "python3"
  },
  "language_info": {
   "codemirror_mode": {
    "name": "ipython",
    "version": 3
   },
   "file_extension": ".py",
   "mimetype": "text/x-python",
   "name": "python",
   "nbconvert_exporter": "python",
   "pygments_lexer": "ipython3",
   "version": "3.11.3"
  }
 },
 "nbformat": 4,
 "nbformat_minor": 5
}
